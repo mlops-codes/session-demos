{
 "cells": [
  {
   "cell_type": "code",
   "execution_count": 2,
   "id": "000dd397",
   "metadata": {},
   "outputs": [],
   "source": [
    "import os\n",
    "import json\n",
    "import time\n",
    "import requests\n",
    "from datetime import datetime\n",
    "import pandas as pd\n",
    "import numpy as np\n",
    "\n",
    "from azure.ai.ml import MLClient\n",
    "from azure.ai.ml.entities import (\n",
    "    ManagedOnlineEndpoint,\n",
    "    ManagedOnlineDeployment,\n",
    "    Model,\n",
    "    Environment,\n",
    "    CodeConfiguration\n",
    ")\n",
    "from azure.ai.ml.constants import AssetTypes\n",
    "from azure.identity import DefaultAzureCredential\n",
    "\n",
    "import matplotlib.pyplot as plt"
   ]
  },
  {
   "cell_type": "code",
   "execution_count": 3,
   "id": "4ad8fe1a",
   "metadata": {},
   "outputs": [
    {
     "name": "stdout",
     "output_type": "stream",
     "text": [
      "Azure ML Client initialized successfully!\n",
      "Workspace: edu-demo\n"
     ]
    }
   ],
   "source": [
    "SUBSCRIPTION_ID = os.getenv(\"AZURE_SUBSCRIPTION_ID\", \"3fc7fd13-533e-40a7-8e3d-f1fbf4204436\")\n",
    "RESOURCE_GROUP = os.getenv(\"AZURE_RESOURCE_GROUP\", \"edu-demo\")\n",
    "WORKSPACE_NAME = os.getenv(\"AZURE_WORKSPACE_NAME\", \"edu-demo\")\n",
    "\n",
    "try:\n",
    "    credential = DefaultAzureCredential()\n",
    "    ml_client = MLClient(\n",
    "        credential=credential,\n",
    "        subscription_id=SUBSCRIPTION_ID,\n",
    "        resource_group_name=RESOURCE_GROUP,\n",
    "        workspace_name=WORKSPACE_NAME,\n",
    "    )\n",
    "    \n",
    "    print(\"Azure ML Client initialized successfully!\")\n",
    "    print(f\"Workspace: {ml_client.workspace_name}\")\n",
    "    \n",
    "except Exception as e:\n",
    "    print(f\"Error initializing Azure ML Client: {e}\")"
   ]
  },
  {
   "cell_type": "code",
   "execution_count": 4,
   "id": "db874b18",
   "metadata": {},
   "outputs": [
    {
     "name": "stdout",
     "output_type": "stream",
     "text": [
      "Retrieved model: auto-registered-classification-model:1\n",
      "Model description: Auto-registered model from job silver_knee_7bhcyl7021\n",
      "Model tags: {'training_job': 'silver_knee_7bhcyl7021', 'framework': 'scikit-learn', 'algorithm': 'random_forest', 'auto_registered': 'true', 'training_date': '2025-07-19 04:27:25'}\n"
     ]
    }
   ],
   "source": [
    "try:\n",
    "    # Get the latest version of our registered model\n",
    "    model_name = \"auto-registered-classification-model\"\n",
    "    model = ml_client.models.get(model_name, version=\"1\")\n",
    "    \n",
    "    print(f\"Retrieved model: {model.name}:{model.version}\")\n",
    "    print(f\"Model description: {model.description}\")\n",
    "    print(f\"Model tags: {model.tags}\")\n",
    "    \n",
    "    model_available = True\n",
    "    \n",
    "except Exception as e:\n",
    "    print(f\"Error retrieving model: {e}\")\n",
    "    print(\"Please ensure you have registered a model in notebook 2.\")\n",
    "    model_available = False"
   ]
  },
  {
   "cell_type": "code",
   "execution_count": 5,
   "id": "9b948400",
   "metadata": {},
   "outputs": [
    {
     "name": "stdout",
     "output_type": "stream",
     "text": [
      "Inference environment 'inference-env' created successfully!\n"
     ]
    }
   ],
   "source": [
    "try:\n",
    "    # Create inference environment\n",
    "    inference_env = Environment(\n",
    "        name=\"inference-env\",\n",
    "        description=\"Environment for model inference\",\n",
    "        conda_file=\"./deployment/src/conda.yml\",\n",
    "        image=\"mcr.microsoft.com/azureml/openmpi4.1.0-ubuntu20.04:latest\"\n",
    "    )\n",
    "    \n",
    "    # Create or update the environment\n",
    "    inference_env = ml_client.environments.create_or_update(inference_env)\n",
    "    print(f\"Inference environment '{inference_env.name}' created successfully!\")\n",
    "    \n",
    "except Exception as e:\n",
    "    print(f\"Error creating environment: {e}\")\n",
    "    print(\"Will attempt to use existing environment.\")"
   ]
  },
  {
   "cell_type": "code",
   "execution_count": 6,
   "id": "07f42113",
   "metadata": {},
   "outputs": [
    {
     "name": "stdout",
     "output_type": "stream",
     "text": [
      "Creating endpoint: synthetic-9f4e14c2\n",
      "Endpoint created successfully!\n",
      "Endpoint name: synthetic-9f4e14c2\n",
      "Endpoint URI: https://synthetic-9f4e14c2.westeurope.inference.ml.azure.com/score\n"
     ]
    }
   ],
   "source": [
    "if model_available:\n",
    "    try:\n",
    "        # Define endpoint name (must be unique)\n",
    "        import uuid\n",
    "        endpoint_name = f\"synthetic-{str(uuid.uuid4())[:8]}\"\n",
    "        \n",
    "        # Create endpoint\n",
    "        endpoint = ManagedOnlineEndpoint(\n",
    "            name=endpoint_name,\n",
    "            description=\"Endpoint for synthetic classification model\",\n",
    "            auth_mode=\"key\",  # Use key-based authentication\n",
    "            tags={\n",
    "                \"model_name\": model_name,\n",
    "                \"purpose\": \"demo\",\n",
    "                \"created_by\": \"azure-ml-notebook\"\n",
    "            }\n",
    "        )\n",
    "        \n",
    "        # Create the endpoint\n",
    "        print(f\"Creating endpoint: {endpoint_name}\")\n",
    "        endpoint = ml_client.online_endpoints.begin_create_or_update(endpoint).result()\n",
    "        \n",
    "        print(f\"Endpoint created successfully!\")\n",
    "        print(f\"Endpoint name: {endpoint.name}\")\n",
    "        print(f\"Endpoint URI: {endpoint.scoring_uri}\")\n",
    "        \n",
    "    except Exception as e:\n",
    "        print(f\"Error creating endpoint: {e}\")\n",
    "        print(\"\\nPossible issues:\")\n",
    "        print(\"1. Endpoint name already exists (try with different name)\")\n",
    "        print(\"2. Insufficient permissions\")\n",
    "        print(\"3. Quota limitations\")\n",
    "else:\n",
    "    print(\"Cannot create endpoint without a registered model.\")"
   ]
  },
  {
   "cell_type": "code",
   "execution_count": null,
   "id": "4d3817dd",
   "metadata": {},
   "outputs": [
    {
     "name": "stderr",
     "output_type": "stream",
     "text": [
      "Check: endpoint synthetic-9f4e14c2 exists\n"
     ]
    },
    {
     "name": "stdout",
     "output_type": "stream",
     "text": [
      "Creating deployment: blue\n",
      "This may take 10-15 minutes...\n"
     ]
    },
    {
     "name": "stderr",
     "output_type": "stream",
     "text": [
      "\u001b[32mUploading src (0.0 MBs): 100%|##########| 4887/4887 [00:00<00:00, 55075.66it/s]\n",
      "\u001b[39m\n",
      "\n"
     ]
    },
    {
     "name": "stdout",
     "output_type": "stream",
     "text": [
      "..............................................................Deployment created successfully!\n",
      "Deployment name: blue\n",
      "Deployment state: Succeeded\n"
     ]
    },
    {
     "name": "stderr",
     "output_type": "stream",
     "text": [
      "Readonly attribute principal_id will be ignored in class <class 'azure.ai.ml._restclient.v2022_05_01.models._models_py3.ManagedServiceIdentity'>\n",
      "Readonly attribute tenant_id will be ignored in class <class 'azure.ai.ml._restclient.v2022_05_01.models._models_py3.ManagedServiceIdentity'>\n"
     ]
    }
   ],
   "source": [
    "if model_available and 'endpoint' in locals():\n",
    "    try:\n",
    "        # Create deployment\n",
    "        deployment_name = \"blue\"  # Using blue-green deployment naming\n",
    "        \n",
    "        deployment = ManagedOnlineDeployment(\n",
    "            name=deployment_name,\n",
    "            endpoint_name=endpoint_name,\n",
    "            model=model,\n",
    "            environment=inference_env,\n",
    "            code_configuration=CodeConfiguration(\n",
    "                code=\"./deployment/src\",\n",
    "                scoring_script=\"score.py\"\n",
    "            ),\n",
    "            instance_type=\"Standard_E2s_v3\",\n",
    "            instance_count=1,\n",
    "            description=\"Blue deployment for synthetic classification model\"\n",
    "        )\n",
    "        \n",
    "        # Deploy the model\n",
    "        print(f\"Creating deployment: {deployment_name}\")\n",
    "        print(\"This may take 10-15 minutes...\")\n",
    "        \n",
    "        deployment = ml_client.online_deployments.begin_create_or_update(deployment).result()\n",
    "        \n",
    "        print(f\"Deployment created successfully!\")\n",
    "        print(f\"Deployment name: {deployment.name}\")\n",
    "        print(f\"Deployment state: {deployment.provisioning_state}\")\n",
    "        \n",
    "        # Set traffic to 100% for this deployment\n",
    "        endpoint.traffic = {deployment_name: 100}\n",
    "        ml_client.online_endpoints.begin_create_or_update(endpoint).result()\n",
    "        print(f\"Traffic allocation set to 100% for {deployment_name}\")\n",
    "        \n",
    "    except Exception as e:\n",
    "        print(f\"Error creating deployment: {e}\")\n",
    "        print(\"\\nDeployment can take time. Check Azure ML Studio for status.\")\n",
    "else:\n",
    "    print(\"Cannot create deployment without endpoint and model.\")"
   ]
  },
  {
   "cell_type": "code",
   "execution_count": null,
   "id": "4022c088",
   "metadata": {},
   "outputs": [],
   "source": [
    "if 'endpoint' in locals():\n",
    "    try:\n",
    "        # Get endpoint details\n",
    "        endpoint_details = ml_client.online_endpoints.get(endpoint_name)\n",
    "        scoring_uri = endpoint_details.scoring_uri\n",
    "        \n",
    "        # Get authentication key\n",
    "        keys = ml_client.online_endpoints.get_keys(endpoint_name)\n",
    "        auth_key = keys.primary_key\n",
    "        \n",
    "        print(f\"Endpoint URI: {scoring_uri}\")\n",
    "        print(f\"Auth key: {auth_key[:10]}...\")\n",
    "        \n",
    "        # Test with sample data\n",
    "        test_data = {\n",
    "            \"data\": [\n",
    "                [0.1, 0.2, 0.3, 0.4, 0.5, 0.6, 0.7, 0.8, 0.9, 1.0,\n",
    "                 1.1, 1.2, 1.3, 1.4, 1.5, 1.6, 1.7, 1.8, 1.9, 2.0],\n",
    "                [-0.1, -0.2, -0.3, -0.4, -0.5, -0.6, -0.7, -0.8, -0.9, -1.0,\n",
    "                 -1.1, -1.2, -1.3, -1.4, -1.5, -1.6, -1.7, -1.8, -1.9, -2.0]\n",
    "            ]\n",
    "        }\n",
    "        \n",
    "        # Make request\n",
    "        headers = {\n",
    "            'Content-Type': 'application/json',\n",
    "            'Authorization': f'Bearer {auth_key}'\n",
    "        }\n",
    "        \n",
    "        print(\"\\nTesting endpoint...\")\n",
    "        response = requests.post(\n",
    "            scoring_uri,\n",
    "            json=test_data,\n",
    "            headers=headers,\n",
    "            timeout=30\n",
    "        )\n",
    "        \n",
    "        if response.status_code == 200:\n",
    "            result = response.json()\n",
    "            print(\"✅ Endpoint test successful!\")\n",
    "            print(\"Response:\")\n",
    "            print(json.dumps(result, indent=2))\n",
    "        else:\n",
    "            print(f\"❌ Endpoint test failed: {response.status_code}\")\n",
    "            print(f\"Error: {response.text}\")\n",
    "            \n",
    "    except Exception as e:\n",
    "        print(f\"Error testing endpoint: {e}\")\n",
    "else:\n",
    "    print(\"No endpoint available for testing.\")"
   ]
  }
 ],
 "metadata": {
  "kernelspec": {
   "display_name": ".venv",
   "language": "python",
   "name": "python3"
  },
  "language_info": {
   "codemirror_mode": {
    "name": "ipython",
    "version": 3
   },
   "file_extension": ".py",
   "mimetype": "text/x-python",
   "name": "python",
   "nbconvert_exporter": "python",
   "pygments_lexer": "ipython3",
   "version": "3.12.0"
  }
 },
 "nbformat": 4,
 "nbformat_minor": 5
}
