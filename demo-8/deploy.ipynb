{
 "cells": [
  {
   "cell_type": "code",
   "execution_count": 6,
   "id": "000dd397",
   "metadata": {},
   "outputs": [],
   "source": [
    "import os\n",
    "import json\n",
    "import time\n",
    "import requests\n",
    "from datetime import datetime\n",
    "import pandas as pd\n",
    "import numpy as np\n",
    "\n",
    "from azure.ai.ml import MLClient\n",
    "from azure.ai.ml.entities import (\n",
    "    ManagedOnlineEndpoint,\n",
    "    ManagedOnlineDeployment,\n",
    "    Model,\n",
    "    Environment,\n",
    "    CodeConfiguration\n",
    ")\n",
    "from azure.ai.ml.constants import AssetTypes\n",
    "from azure.identity import DefaultAzureCredential\n",
    "\n",
    "import matplotlib.pyplot as plt"
   ]
  },
  {
   "cell_type": "code",
   "execution_count": 7,
   "id": "4ad8fe1a",
   "metadata": {},
   "outputs": [
    {
     "name": "stdout",
     "output_type": "stream",
     "text": [
      "Azure ML Client initialized successfully!\n",
      "Workspace: edu-demo\n"
     ]
    }
   ],
   "source": [
    "SUBSCRIPTION_ID = os.getenv(\"AZURE_SUBSCRIPTION_ID\", \"3fc7fd13-533e-40a7-8e3d-f1fbf4204436\")\n",
    "RESOURCE_GROUP = os.getenv(\"AZURE_RESOURCE_GROUP\", \"edu-demo\")\n",
    "WORKSPACE_NAME = os.getenv(\"AZURE_WORKSPACE_NAME\", \"edu-demo\")\n",
    "\n",
    "try:\n",
    "    credential = DefaultAzureCredential()\n",
    "    ml_client = MLClient(\n",
    "        credential=credential,\n",
    "        subscription_id=SUBSCRIPTION_ID,\n",
    "        resource_group_name=RESOURCE_GROUP,\n",
    "        workspace_name=WORKSPACE_NAME,\n",
    "    )\n",
    "    \n",
    "    print(\"Azure ML Client initialized successfully!\")\n",
    "    print(f\"Workspace: {ml_client.workspace_name}\")\n",
    "    \n",
    "except Exception as e:\n",
    "    print(f\"Error initializing Azure ML Client: {e}\")"
   ]
  },
  {
   "cell_type": "code",
   "execution_count": 8,
   "id": "db874b18",
   "metadata": {},
   "outputs": [
    {
     "name": "stdout",
     "output_type": "stream",
     "text": [
      "Retrieved model: auto-registered-classification-model:1\n",
      "Model description: Auto-registered model from job silver_knee_7bhcyl7021\n",
      "Model tags: {'training_job': 'silver_knee_7bhcyl7021', 'framework': 'scikit-learn', 'algorithm': 'random_forest', 'auto_registered': 'true', 'training_date': '2025-07-19 04:27:25'}\n"
     ]
    }
   ],
   "source": [
    "try:\n",
    "    # Get the latest version of our registered model\n",
    "    model_name = \"auto-registered-classification-model\"\n",
    "    model = ml_client.models.get(model_name, version=\"1\")\n",
    "    \n",
    "    print(f\"Retrieved model: {model.name}:{model.version}\")\n",
    "    print(f\"Model description: {model.description}\")\n",
    "    print(f\"Model tags: {model.tags}\")\n",
    "    \n",
    "    model_available = True\n",
    "    \n",
    "except Exception as e:\n",
    "    print(f\"Error retrieving model: {e}\")\n",
    "    print(\"Please ensure you have registered a model in notebook 2.\")\n",
    "    model_available = False"
   ]
  },
  {
   "cell_type": "code",
   "execution_count": 9,
   "id": "9b948400",
   "metadata": {},
   "outputs": [
    {
     "name": "stdout",
     "output_type": "stream",
     "text": [
      "Inference environment 'inference-env' created successfully!\n"
     ]
    }
   ],
   "source": [
    "try:\n",
    "    # Create inference environment\n",
    "    inference_env = Environment(\n",
    "        name=\"inference-env\",\n",
    "        description=\"Environment for model inference\",\n",
    "        conda_file=\"./deployment/src/conda.yml\",\n",
    "        image=\"mcr.microsoft.com/azureml/openmpi4.1.0-ubuntu20.04:latest\"\n",
    "    )\n",
    "    \n",
    "    # Create or update the environment\n",
    "    inference_env = ml_client.environments.create_or_update(inference_env)\n",
    "    print(f\"Inference environment '{inference_env.name}' created successfully!\")\n",
    "    \n",
    "except Exception as e:\n",
    "    print(f\"Error creating environment: {e}\")\n",
    "    print(\"Will attempt to use existing environment.\")"
   ]
  },
  {
   "cell_type": "code",
   "execution_count": 10,
   "id": "07f42113",
   "metadata": {},
   "outputs": [
    {
     "name": "stdout",
     "output_type": "stream",
     "text": [
      "Creating endpoint: synthetic-fdd4a3b4\n"
     ]
    },
    {
     "ename": "KeyboardInterrupt",
     "evalue": "",
     "output_type": "error",
     "traceback": [
      "\u001b[31m---------------------------------------------------------------------------\u001b[39m",
      "\u001b[31mKeyboardInterrupt\u001b[39m                         Traceback (most recent call last)",
      "\u001b[36mCell\u001b[39m\u001b[36m \u001b[39m\u001b[32mIn[10]\u001b[39m\u001b[32m, line 21\u001b[39m\n\u001b[32m     19\u001b[39m \u001b[38;5;66;03m# Create the endpoint\u001b[39;00m\n\u001b[32m     20\u001b[39m \u001b[38;5;28mprint\u001b[39m(\u001b[33mf\u001b[39m\u001b[33m\"\u001b[39m\u001b[33mCreating endpoint: \u001b[39m\u001b[38;5;132;01m{\u001b[39;00mendpoint_name\u001b[38;5;132;01m}\u001b[39;00m\u001b[33m\"\u001b[39m)\n\u001b[32m---> \u001b[39m\u001b[32m21\u001b[39m endpoint = \u001b[43mml_client\u001b[49m\u001b[43m.\u001b[49m\u001b[43monline_endpoints\u001b[49m\u001b[43m.\u001b[49m\u001b[43mbegin_create_or_update\u001b[49m\u001b[43m(\u001b[49m\u001b[43mendpoint\u001b[49m\u001b[43m)\u001b[49m\u001b[43m.\u001b[49m\u001b[43mresult\u001b[49m\u001b[43m(\u001b[49m\u001b[43m)\u001b[49m\n\u001b[32m     23\u001b[39m \u001b[38;5;28mprint\u001b[39m(\u001b[33mf\u001b[39m\u001b[33m\"\u001b[39m\u001b[33mEndpoint created successfully!\u001b[39m\u001b[33m\"\u001b[39m)\n\u001b[32m     24\u001b[39m \u001b[38;5;28mprint\u001b[39m(\u001b[33mf\u001b[39m\u001b[33m\"\u001b[39m\u001b[33mEndpoint name: \u001b[39m\u001b[38;5;132;01m{\u001b[39;00mendpoint.name\u001b[38;5;132;01m}\u001b[39;00m\u001b[33m\"\u001b[39m)\n",
      "\u001b[36mFile \u001b[39m\u001b[32mc:\\Users\\Praveen\\Desktop\\session-demos\\.venv\\Lib\\site-packages\\azure\\core\\polling\\_poller.py:326\u001b[39m, in \u001b[36mLROPoller.result\u001b[39m\u001b[34m(self, timeout)\u001b[39m\n\u001b[32m    317\u001b[39m \u001b[38;5;28;01mdef\u001b[39;00m\u001b[38;5;250m \u001b[39m\u001b[34mresult\u001b[39m(\u001b[38;5;28mself\u001b[39m, timeout: Optional[\u001b[38;5;28mfloat\u001b[39m] = \u001b[38;5;28;01mNone\u001b[39;00m) -> PollingReturnType_co:\n\u001b[32m    318\u001b[39m \u001b[38;5;250m    \u001b[39m\u001b[33;03m\"\"\"Return the result of the long running operation, or\u001b[39;00m\n\u001b[32m    319\u001b[39m \u001b[33;03m    the result available after the specified timeout.\u001b[39;00m\n\u001b[32m    320\u001b[39m \n\u001b[32m   (...)\u001b[39m\u001b[32m    324\u001b[39m \u001b[33;03m    :raises ~azure.core.exceptions.HttpResponseError: Server problem with the query.\u001b[39;00m\n\u001b[32m    325\u001b[39m \u001b[33;03m    \"\"\"\u001b[39;00m\n\u001b[32m--> \u001b[39m\u001b[32m326\u001b[39m     \u001b[38;5;28;43mself\u001b[39;49m\u001b[43m.\u001b[49m\u001b[43mwait\u001b[49m\u001b[43m(\u001b[49m\u001b[43mtimeout\u001b[49m\u001b[43m)\u001b[49m\n\u001b[32m    327\u001b[39m     \u001b[38;5;28;01mreturn\u001b[39;00m \u001b[38;5;28mself\u001b[39m._polling_method.resource()\n",
      "\u001b[36mFile \u001b[39m\u001b[32mc:\\Users\\Praveen\\Desktop\\session-demos\\.venv\\Lib\\site-packages\\azure\\core\\tracing\\decorator.py:119\u001b[39m, in \u001b[36mdistributed_trace.<locals>.decorator.<locals>.wrapper_use_tracer\u001b[39m\u001b[34m(*args, **kwargs)\u001b[39m\n\u001b[32m    117\u001b[39m \u001b[38;5;66;03m# If tracing is disabled globally and user didn't explicitly enable it, don't trace.\u001b[39;00m\n\u001b[32m    118\u001b[39m \u001b[38;5;28;01mif\u001b[39;00m user_enabled \u001b[38;5;129;01mis\u001b[39;00m \u001b[38;5;28;01mFalse\u001b[39;00m \u001b[38;5;129;01mor\u001b[39;00m (\u001b[38;5;129;01mnot\u001b[39;00m tracing_enabled \u001b[38;5;129;01mand\u001b[39;00m user_enabled \u001b[38;5;129;01mis\u001b[39;00m \u001b[38;5;28;01mNone\u001b[39;00m):\n\u001b[32m--> \u001b[39m\u001b[32m119\u001b[39m     \u001b[38;5;28;01mreturn\u001b[39;00m \u001b[43mfunc\u001b[49m\u001b[43m(\u001b[49m\u001b[43m*\u001b[49m\u001b[43margs\u001b[49m\u001b[43m,\u001b[49m\u001b[43m \u001b[49m\u001b[43m*\u001b[49m\u001b[43m*\u001b[49m\u001b[43mkwargs\u001b[49m\u001b[43m)\u001b[49m\n\u001b[32m    121\u001b[39m \u001b[38;5;66;03m# Merge span is parameter is set, but only if no explicit parent are passed\u001b[39;00m\n\u001b[32m    122\u001b[39m \u001b[38;5;28;01mif\u001b[39;00m merge_span \u001b[38;5;129;01mand\u001b[39;00m \u001b[38;5;129;01mnot\u001b[39;00m passed_in_parent:\n",
      "\u001b[36mFile \u001b[39m\u001b[32mc:\\Users\\Praveen\\Desktop\\session-demos\\.venv\\Lib\\site-packages\\azure\\core\\polling\\_poller.py:341\u001b[39m, in \u001b[36mLROPoller.wait\u001b[39m\u001b[34m(self, timeout)\u001b[39m\n\u001b[32m    339\u001b[39m \u001b[38;5;28;01mif\u001b[39;00m \u001b[38;5;28mself\u001b[39m._thread \u001b[38;5;129;01mis\u001b[39;00m \u001b[38;5;28;01mNone\u001b[39;00m:\n\u001b[32m    340\u001b[39m     \u001b[38;5;28;01mreturn\u001b[39;00m\n\u001b[32m--> \u001b[39m\u001b[32m341\u001b[39m \u001b[38;5;28;43mself\u001b[39;49m\u001b[43m.\u001b[49m\u001b[43m_thread\u001b[49m\u001b[43m.\u001b[49m\u001b[43mjoin\u001b[49m\u001b[43m(\u001b[49m\u001b[43mtimeout\u001b[49m\u001b[43m=\u001b[49m\u001b[43mtimeout\u001b[49m\u001b[43m)\u001b[49m\n\u001b[32m    342\u001b[39m \u001b[38;5;28;01mtry\u001b[39;00m:\n\u001b[32m    343\u001b[39m     \u001b[38;5;66;03m# Let's handle possible None in forgiveness here\u001b[39;00m\n\u001b[32m    344\u001b[39m     \u001b[38;5;66;03m# https://github.com/python/mypy/issues/8165\u001b[39;00m\n\u001b[32m    345\u001b[39m     \u001b[38;5;28;01mraise\u001b[39;00m \u001b[38;5;28mself\u001b[39m._exception  \u001b[38;5;66;03m# type: ignore\u001b[39;00m\n",
      "\u001b[36mFile \u001b[39m\u001b[32m~\\AppData\\Local\\Programs\\Python\\Python312\\Lib\\threading.py:1126\u001b[39m, in \u001b[36mThread.join\u001b[39m\u001b[34m(self, timeout)\u001b[39m\n\u001b[32m   1123\u001b[39m     \u001b[38;5;28;01mraise\u001b[39;00m \u001b[38;5;167;01mRuntimeError\u001b[39;00m(\u001b[33m\"\u001b[39m\u001b[33mcannot join current thread\u001b[39m\u001b[33m\"\u001b[39m)\n\u001b[32m   1125\u001b[39m \u001b[38;5;28;01mif\u001b[39;00m timeout \u001b[38;5;129;01mis\u001b[39;00m \u001b[38;5;28;01mNone\u001b[39;00m:\n\u001b[32m-> \u001b[39m\u001b[32m1126\u001b[39m     \u001b[38;5;28;43mself\u001b[39;49m\u001b[43m.\u001b[49m\u001b[43m_wait_for_tstate_lock\u001b[49m\u001b[43m(\u001b[49m\u001b[43m)\u001b[49m\n\u001b[32m   1127\u001b[39m \u001b[38;5;28;01melse\u001b[39;00m:\n\u001b[32m   1128\u001b[39m     \u001b[38;5;66;03m# the behavior of a negative timeout isn't documented, but\u001b[39;00m\n\u001b[32m   1129\u001b[39m     \u001b[38;5;66;03m# historically .join(timeout=x) for x<0 has acted as if timeout=0\u001b[39;00m\n\u001b[32m   1130\u001b[39m     \u001b[38;5;28mself\u001b[39m._wait_for_tstate_lock(timeout=\u001b[38;5;28mmax\u001b[39m(timeout, \u001b[32m0\u001b[39m))\n",
      "\u001b[36mFile \u001b[39m\u001b[32m~\\AppData\\Local\\Programs\\Python\\Python312\\Lib\\threading.py:1146\u001b[39m, in \u001b[36mThread._wait_for_tstate_lock\u001b[39m\u001b[34m(self, block, timeout)\u001b[39m\n\u001b[32m   1143\u001b[39m     \u001b[38;5;28;01mreturn\u001b[39;00m\n\u001b[32m   1145\u001b[39m \u001b[38;5;28;01mtry\u001b[39;00m:\n\u001b[32m-> \u001b[39m\u001b[32m1146\u001b[39m     \u001b[38;5;28;01mif\u001b[39;00m \u001b[43mlock\u001b[49m\u001b[43m.\u001b[49m\u001b[43macquire\u001b[49m\u001b[43m(\u001b[49m\u001b[43mblock\u001b[49m\u001b[43m,\u001b[49m\u001b[43m \u001b[49m\u001b[43mtimeout\u001b[49m\u001b[43m)\u001b[49m:\n\u001b[32m   1147\u001b[39m         lock.release()\n\u001b[32m   1148\u001b[39m         \u001b[38;5;28mself\u001b[39m._stop()\n",
      "\u001b[31mKeyboardInterrupt\u001b[39m: "
     ]
    }
   ],
   "source": [
    "if model_available:\n",
    "    try:\n",
    "        # Define endpoint name (must be unique)\n",
    "        import uuid\n",
    "        endpoint_name = f\"synthetic-{str(uuid.uuid4())[:8]}\"\n",
    "        \n",
    "        # Create endpoint\n",
    "        endpoint = ManagedOnlineEndpoint(\n",
    "            name=endpoint_name,\n",
    "            description=\"Endpoint for synthetic classification model\",\n",
    "            auth_mode=\"key\",  # Use key-based authentication\n",
    "            tags={\n",
    "                \"model_name\": model_name,\n",
    "                \"purpose\": \"demo\",\n",
    "                \"created_by\": \"azure-ml-notebook\"\n",
    "            }\n",
    "        )\n",
    "        \n",
    "        # Create the endpoint\n",
    "        print(f\"Creating endpoint: {endpoint_name}\")\n",
    "        endpoint = ml_client.online_endpoints.begin_create_or_update(endpoint).result()\n",
    "        \n",
    "        print(f\"Endpoint created successfully!\")\n",
    "        print(f\"Endpoint name: {endpoint.name}\")\n",
    "        print(f\"Endpoint URI: {endpoint.scoring_uri}\")\n",
    "        \n",
    "    except Exception as e:\n",
    "        print(f\"Error creating endpoint: {e}\")\n",
    "        print(\"\\nPossible issues:\")\n",
    "        print(\"1. Endpoint name already exists (try with different name)\")\n",
    "        print(\"2. Insufficient permissions\")\n",
    "        print(\"3. Quota limitations\")\n",
    "else:\n",
    "    print(\"Cannot create endpoint without a registered model.\")"
   ]
  },
  {
   "cell_type": "code",
   "execution_count": 12,
   "id": "4022c088",
   "metadata": {},
   "outputs": [
    {
     "name": "stdout",
     "output_type": "stream",
     "text": [
      "Endpoint URI: https://synthetic-9f4e14c2.westeurope.inference.ml.azure.com/score\n",
      "Auth key: 7ZlgB7KnhH...\n",
      "\n",
      "Testing endpoint...\n",
      "❌ Endpoint test failed: 401\n",
      "Error: key_auth_access_denied\n",
      "Please check this guide to understand why this error code might have been returned \n",
      "https://docs.microsoft.com/en-us/azure/machine-learning/how-to-troubleshoot-online-endpoints#http-status-codes\n",
      "\n"
     ]
    }
   ],
   "source": [
    "# Get endpoint details\n",
    "endpoint_details = ml_client.online_endpoints.get(\"synthetic-9f4e14c2\")\n",
    "scoring_uri = endpoint_details.scoring_uri\n",
    "\n",
    "# Get authentication key\n",
    "keys = ml_client.online_endpoints.get_keys(endpoint_name)\n",
    "auth_key = keys.primary_key\n",
    "\n",
    "print(f\"Endpoint URI: {scoring_uri}\")\n",
    "print(f\"Auth key: {auth_key[:10]}...\")\n",
    "\n",
    "# Test with sample data\n",
    "test_data = {\n",
    "    \"data\": [\n",
    "        [0.1, 0.2, 0.3, 0.4, 0.5, 0.6, 0.7, 0.8, 0.9, 1.0,\n",
    "            1.1, 1.2, 1.3, 1.4, 1.5, 1.6, 1.7, 1.8, 1.9, 2.0],\n",
    "        [-0.1, -0.2, -0.3, -0.4, -0.5, -0.6, -0.7, -0.8, -0.9, -1.0,\n",
    "            -1.1, -1.2, -1.3, -1.4, -1.5, -1.6, -1.7, -1.8, -1.9, -2.0]\n",
    "    ]\n",
    "}\n",
    "\n",
    "# Make request\n",
    "headers = {\n",
    "    'Content-Type': 'application/json',\n",
    "    'Authorization': f'Bearer {auth_key}'\n",
    "}\n",
    "\n",
    "print(\"\\nTesting endpoint...\")\n",
    "response = requests.post(\n",
    "    scoring_uri,\n",
    "    json=test_data,\n",
    "    headers=headers,\n",
    "    timeout=30\n",
    ")\n",
    "\n",
    "if response.status_code == 200:\n",
    "    result = response.json()\n",
    "    print(\"✅ Endpoint test successful!\")\n",
    "    print(\"Response:\")\n",
    "    print(json.dumps(result, indent=2))\n",
    "else:\n",
    "    print(f\"❌ Endpoint test failed: {response.status_code}\")\n",
    "    print(f\"Error: {response.text}\")\n",
    "    "
   ]
  }
 ],
 "metadata": {
  "kernelspec": {
   "display_name": ".venv",
   "language": "python",
   "name": "python3"
  },
  "language_info": {
   "codemirror_mode": {
    "name": "ipython",
    "version": 3
   },
   "file_extension": ".py",
   "mimetype": "text/x-python",
   "name": "python",
   "nbconvert_exporter": "python",
   "pygments_lexer": "ipython3",
   "version": "3.12.0"
  }
 },
 "nbformat": 4,
 "nbformat_minor": 5
}
