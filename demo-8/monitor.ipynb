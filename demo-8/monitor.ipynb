{
 "cells": [
  {
   "cell_type": "code",
   "execution_count": 1,
   "id": "8e3fba0c",
   "metadata": {},
   "outputs": [
    {
     "name": "stdout",
     "output_type": "stream",
     "text": [
      "Requirement already satisfied: azure-ai-ml==1.23.1 in c:\\users\\praveen\\desktop\\session-demos\\.venv\\lib\\site-packages (1.23.1)\n",
      "Requirement already satisfied: pyyaml>=5.1.0 in c:\\users\\praveen\\desktop\\session-demos\\.venv\\lib\\site-packages (from azure-ai-ml==1.23.1) (6.0.2)\n",
      "Requirement already satisfied: msrest>=0.6.18 in c:\\users\\praveen\\desktop\\session-demos\\.venv\\lib\\site-packages (from azure-ai-ml==1.23.1) (0.7.1)\n",
      "Requirement already satisfied: azure-core>=1.23.0 in c:\\users\\praveen\\desktop\\session-demos\\.venv\\lib\\site-packages (from azure-ai-ml==1.23.1) (1.35.0)\n",
      "Requirement already satisfied: azure-mgmt-core>=1.3.0 in c:\\users\\praveen\\desktop\\session-demos\\.venv\\lib\\site-packages (from azure-ai-ml==1.23.1) (1.6.0)\n",
      "Requirement already satisfied: marshmallow>=3.5 in c:\\users\\praveen\\desktop\\session-demos\\.venv\\lib\\site-packages (from azure-ai-ml==1.23.1) (3.26.1)\n",
      "Requirement already satisfied: jsonschema>=4.0.0 in c:\\users\\praveen\\desktop\\session-demos\\.venv\\lib\\site-packages (from azure-ai-ml==1.23.1) (4.24.0)\n",
      "Requirement already satisfied: tqdm in c:\\users\\praveen\\desktop\\session-demos\\.venv\\lib\\site-packages (from azure-ai-ml==1.23.1) (4.67.1)\n",
      "Requirement already satisfied: strictyaml in c:\\users\\praveen\\desktop\\session-demos\\.venv\\lib\\site-packages (from azure-ai-ml==1.23.1) (1.7.3)\n",
      "Requirement already satisfied: colorama in c:\\users\\praveen\\desktop\\session-demos\\.venv\\lib\\site-packages (from azure-ai-ml==1.23.1) (0.4.6)\n",
      "Requirement already satisfied: pyjwt in c:\\users\\praveen\\desktop\\session-demos\\.venv\\lib\\site-packages (from azure-ai-ml==1.23.1) (2.10.1)\n",
      "Requirement already satisfied: azure-storage-blob>=12.10.0 in c:\\users\\praveen\\desktop\\session-demos\\.venv\\lib\\site-packages (from azure-ai-ml==1.23.1) (12.26.0)\n",
      "Requirement already satisfied: azure-storage-file-share in c:\\users\\praveen\\desktop\\session-demos\\.venv\\lib\\site-packages (from azure-ai-ml==1.23.1) (12.22.0)\n",
      "Requirement already satisfied: azure-storage-file-datalake>=12.2.0 in c:\\users\\praveen\\desktop\\session-demos\\.venv\\lib\\site-packages (from azure-ai-ml==1.23.1) (12.21.0)\n",
      "Requirement already satisfied: pydash>=6.0.0 in c:\\users\\praveen\\desktop\\session-demos\\.venv\\lib\\site-packages (from azure-ai-ml==1.23.1) (8.0.5)\n",
      "Requirement already satisfied: isodate in c:\\users\\praveen\\desktop\\session-demos\\.venv\\lib\\site-packages (from azure-ai-ml==1.23.1) (0.7.2)\n",
      "Requirement already satisfied: azure-common>=1.1 in c:\\users\\praveen\\desktop\\session-demos\\.venv\\lib\\site-packages (from azure-ai-ml==1.23.1) (1.1.28)\n",
      "Requirement already satisfied: typing-extensions in c:\\users\\praveen\\desktop\\session-demos\\.venv\\lib\\site-packages (from azure-ai-ml==1.23.1) (4.14.1)\n",
      "Requirement already satisfied: opencensus-ext-azure in c:\\users\\praveen\\desktop\\session-demos\\.venv\\lib\\site-packages (from azure-ai-ml==1.23.1) (1.1.15)\n",
      "Requirement already satisfied: opencensus-ext-logging in c:\\users\\praveen\\desktop\\session-demos\\.venv\\lib\\site-packages (from azure-ai-ml==1.23.1) (0.1.1)\n",
      "Requirement already satisfied: requests>=2.21.0 in c:\\users\\praveen\\desktop\\session-demos\\.venv\\lib\\site-packages (from azure-core>=1.23.0->azure-ai-ml==1.23.1) (2.32.4)\n",
      "Requirement already satisfied: six>=1.11.0 in c:\\users\\praveen\\desktop\\session-demos\\.venv\\lib\\site-packages (from azure-core>=1.23.0->azure-ai-ml==1.23.1) (1.17.0)\n",
      "Requirement already satisfied: cryptography>=2.1.4 in c:\\users\\praveen\\desktop\\session-demos\\.venv\\lib\\site-packages (from azure-storage-blob>=12.10.0->azure-ai-ml==1.23.1) (45.0.5)\n",
      "Requirement already satisfied: cffi>=1.14 in c:\\users\\praveen\\desktop\\session-demos\\.venv\\lib\\site-packages (from cryptography>=2.1.4->azure-storage-blob>=12.10.0->azure-ai-ml==1.23.1) (1.17.1)\n",
      "Requirement already satisfied: pycparser in c:\\users\\praveen\\desktop\\session-demos\\.venv\\lib\\site-packages (from cffi>=1.14->cryptography>=2.1.4->azure-storage-blob>=12.10.0->azure-ai-ml==1.23.1) (2.22)\n",
      "Requirement already satisfied: attrs>=22.2.0 in c:\\users\\praveen\\desktop\\session-demos\\.venv\\lib\\site-packages (from jsonschema>=4.0.0->azure-ai-ml==1.23.1) (25.3.0)\n",
      "Requirement already satisfied: jsonschema-specifications>=2023.03.6 in c:\\users\\praveen\\desktop\\session-demos\\.venv\\lib\\site-packages (from jsonschema>=4.0.0->azure-ai-ml==1.23.1) (2025.4.1)\n",
      "Requirement already satisfied: referencing>=0.28.4 in c:\\users\\praveen\\desktop\\session-demos\\.venv\\lib\\site-packages (from jsonschema>=4.0.0->azure-ai-ml==1.23.1) (0.36.2)\n",
      "Requirement already satisfied: rpds-py>=0.7.1 in c:\\users\\praveen\\desktop\\session-demos\\.venv\\lib\\site-packages (from jsonschema>=4.0.0->azure-ai-ml==1.23.1) (0.26.0)\n",
      "Requirement already satisfied: packaging>=17.0 in c:\\users\\praveen\\desktop\\session-demos\\.venv\\lib\\site-packages (from marshmallow>=3.5->azure-ai-ml==1.23.1) (24.2)\n",
      "Requirement already satisfied: certifi>=2017.4.17 in c:\\users\\praveen\\desktop\\session-demos\\.venv\\lib\\site-packages (from msrest>=0.6.18->azure-ai-ml==1.23.1) (2025.6.15)\n",
      "Requirement already satisfied: requests-oauthlib>=0.5.0 in c:\\users\\praveen\\desktop\\session-demos\\.venv\\lib\\site-packages (from msrest>=0.6.18->azure-ai-ml==1.23.1) (2.0.0)\n",
      "Requirement already satisfied: charset_normalizer<4,>=2 in c:\\users\\praveen\\desktop\\session-demos\\.venv\\lib\\site-packages (from requests>=2.21.0->azure-core>=1.23.0->azure-ai-ml==1.23.1) (3.4.2)\n",
      "Requirement already satisfied: idna<4,>=2.5 in c:\\users\\praveen\\desktop\\session-demos\\.venv\\lib\\site-packages (from requests>=2.21.0->azure-core>=1.23.0->azure-ai-ml==1.23.1) (3.10)\n",
      "Requirement already satisfied: urllib3<3,>=1.21.1 in c:\\users\\praveen\\desktop\\session-demos\\.venv\\lib\\site-packages (from requests>=2.21.0->azure-core>=1.23.0->azure-ai-ml==1.23.1) (2.5.0)\n",
      "Requirement already satisfied: oauthlib>=3.0.0 in c:\\users\\praveen\\desktop\\session-demos\\.venv\\lib\\site-packages (from requests-oauthlib>=0.5.0->msrest>=0.6.18->azure-ai-ml==1.23.1) (3.3.1)\n",
      "Requirement already satisfied: azure-identity<2.0.0,>=1.5.0 in c:\\users\\praveen\\desktop\\session-demos\\.venv\\lib\\site-packages (from opencensus-ext-azure->azure-ai-ml==1.23.1) (1.23.1)\n",
      "Requirement already satisfied: opencensus<1.0.0,>=0.11.4 in c:\\users\\praveen\\desktop\\session-demos\\.venv\\lib\\site-packages (from opencensus-ext-azure->azure-ai-ml==1.23.1) (0.11.4)\n",
      "Requirement already satisfied: psutil>=5.6.3 in c:\\users\\praveen\\desktop\\session-demos\\.venv\\lib\\site-packages (from opencensus-ext-azure->azure-ai-ml==1.23.1) (7.0.0)\n",
      "Requirement already satisfied: msal>=1.30.0 in c:\\users\\praveen\\desktop\\session-demos\\.venv\\lib\\site-packages (from azure-identity<2.0.0,>=1.5.0->opencensus-ext-azure->azure-ai-ml==1.23.1) (1.32.3)\n",
      "Requirement already satisfied: msal-extensions>=1.2.0 in c:\\users\\praveen\\desktop\\session-demos\\.venv\\lib\\site-packages (from azure-identity<2.0.0,>=1.5.0->opencensus-ext-azure->azure-ai-ml==1.23.1) (1.3.1)\n",
      "Requirement already satisfied: opencensus-context>=0.1.3 in c:\\users\\praveen\\desktop\\session-demos\\.venv\\lib\\site-packages (from opencensus<1.0.0,>=0.11.4->opencensus-ext-azure->azure-ai-ml==1.23.1) (0.1.3)\n",
      "Requirement already satisfied: google-api-core<3.0.0,>=1.0.0 in c:\\users\\praveen\\desktop\\session-demos\\.venv\\lib\\site-packages (from opencensus<1.0.0,>=0.11.4->opencensus-ext-azure->azure-ai-ml==1.23.1) (2.25.1)\n",
      "Requirement already satisfied: googleapis-common-protos<2.0.0,>=1.56.2 in c:\\users\\praveen\\desktop\\session-demos\\.venv\\lib\\site-packages (from google-api-core<3.0.0,>=1.0.0->opencensus<1.0.0,>=0.11.4->opencensus-ext-azure->azure-ai-ml==1.23.1) (1.70.0)\n",
      "Requirement already satisfied: protobuf!=3.20.0,!=3.20.1,!=4.21.0,!=4.21.1,!=4.21.2,!=4.21.3,!=4.21.4,!=4.21.5,<7.0.0,>=3.19.5 in c:\\users\\praveen\\desktop\\session-demos\\.venv\\lib\\site-packages (from google-api-core<3.0.0,>=1.0.0->opencensus<1.0.0,>=0.11.4->opencensus-ext-azure->azure-ai-ml==1.23.1) (5.29.5)\n",
      "Requirement already satisfied: proto-plus<2.0.0,>=1.22.3 in c:\\users\\praveen\\desktop\\session-demos\\.venv\\lib\\site-packages (from google-api-core<3.0.0,>=1.0.0->opencensus<1.0.0,>=0.11.4->opencensus-ext-azure->azure-ai-ml==1.23.1) (1.26.1)\n",
      "Requirement already satisfied: google-auth<3.0.0,>=2.14.1 in c:\\users\\praveen\\desktop\\session-demos\\.venv\\lib\\site-packages (from google-api-core<3.0.0,>=1.0.0->opencensus<1.0.0,>=0.11.4->opencensus-ext-azure->azure-ai-ml==1.23.1) (2.40.3)\n",
      "Requirement already satisfied: cachetools<6.0,>=2.0.0 in c:\\users\\praveen\\desktop\\session-demos\\.venv\\lib\\site-packages (from google-auth<3.0.0,>=2.14.1->google-api-core<3.0.0,>=1.0.0->opencensus<1.0.0,>=0.11.4->opencensus-ext-azure->azure-ai-ml==1.23.1) (5.5.2)\n",
      "Requirement already satisfied: pyasn1-modules>=0.2.1 in c:\\users\\praveen\\desktop\\session-demos\\.venv\\lib\\site-packages (from google-auth<3.0.0,>=2.14.1->google-api-core<3.0.0,>=1.0.0->opencensus<1.0.0,>=0.11.4->opencensus-ext-azure->azure-ai-ml==1.23.1) (0.4.2)\n",
      "Requirement already satisfied: rsa<5,>=3.1.4 in c:\\users\\praveen\\desktop\\session-demos\\.venv\\lib\\site-packages (from google-auth<3.0.0,>=2.14.1->google-api-core<3.0.0,>=1.0.0->opencensus<1.0.0,>=0.11.4->opencensus-ext-azure->azure-ai-ml==1.23.1) (4.9.1)\n",
      "Requirement already satisfied: pyasn1>=0.1.3 in c:\\users\\praveen\\desktop\\session-demos\\.venv\\lib\\site-packages (from rsa<5,>=3.1.4->google-auth<3.0.0,>=2.14.1->google-api-core<3.0.0,>=1.0.0->opencensus<1.0.0,>=0.11.4->opencensus-ext-azure->azure-ai-ml==1.23.1) (0.6.1)\n",
      "Requirement already satisfied: python-dateutil>=2.6.0 in c:\\users\\praveen\\desktop\\session-demos\\.venv\\lib\\site-packages (from strictyaml->azure-ai-ml==1.23.1) (2.9.0.post0)\n"
     ]
    }
   ],
   "source": [
    "!pip install --upgrade azure-ai-ml==1.23.1"
   ]
  },
  {
   "cell_type": "code",
   "execution_count": 2,
   "id": "84f7c286",
   "metadata": {},
   "outputs": [
    {
     "ename": "ImportError",
     "evalue": "cannot import name 'DataDriftMonitor' from 'azure.ai.ml.entities' (c:\\Users\\Praveen\\Desktop\\session-demos\\.venv\\Lib\\site-packages\\azure\\ai\\ml\\entities\\__init__.py)",
     "output_type": "error",
     "traceback": [
      "\u001b[31m---------------------------------------------------------------------------\u001b[39m",
      "\u001b[31mImportError\u001b[39m                               Traceback (most recent call last)",
      "\u001b[36mCell\u001b[39m\u001b[36m \u001b[39m\u001b[32mIn[2]\u001b[39m\u001b[32m, line 13\u001b[39m\n\u001b[32m     11\u001b[39m \u001b[38;5;66;03m# Azure ML imports\u001b[39;00m\n\u001b[32m     12\u001b[39m \u001b[38;5;28;01mfrom\u001b[39;00m\u001b[38;5;250m \u001b[39m\u001b[34;01mazure\u001b[39;00m\u001b[34;01m.\u001b[39;00m\u001b[34;01mai\u001b[39;00m\u001b[34;01m.\u001b[39;00m\u001b[34;01mml\u001b[39;00m\u001b[38;5;250m \u001b[39m\u001b[38;5;28;01mimport\u001b[39;00m MLClient\n\u001b[32m---> \u001b[39m\u001b[32m13\u001b[39m \u001b[38;5;28;01mfrom\u001b[39;00m\u001b[38;5;250m \u001b[39m\u001b[34;01mazure\u001b[39;00m\u001b[34;01m.\u001b[39;00m\u001b[34;01mai\u001b[39;00m\u001b[34;01m.\u001b[39;00m\u001b[34;01mml\u001b[39;00m\u001b[34;01m.\u001b[39;00m\u001b[34;01mentities\u001b[39;00m\u001b[38;5;250m \u001b[39m\u001b[38;5;28;01mimport\u001b[39;00m (\n\u001b[32m     14\u001b[39m     DataDriftMonitor,\n\u001b[32m     15\u001b[39m     ModelMonitor,\n\u001b[32m     16\u001b[39m     ServerlessSparkCompute\n\u001b[32m     17\u001b[39m )\n\u001b[32m     18\u001b[39m \u001b[38;5;28;01mfrom\u001b[39;00m\u001b[38;5;250m \u001b[39m\u001b[34;01mazure\u001b[39;00m\u001b[34;01m.\u001b[39;00m\u001b[34;01midentity\u001b[39;00m\u001b[38;5;250m \u001b[39m\u001b[38;5;28;01mimport\u001b[39;00m DefaultAzureCredential\n\u001b[32m     20\u001b[39m \u001b[38;5;66;03m# Data drift detection\u001b[39;00m\n",
      "\u001b[31mImportError\u001b[39m: cannot import name 'DataDriftMonitor' from 'azure.ai.ml.entities' (c:\\Users\\Praveen\\Desktop\\session-demos\\.venv\\Lib\\site-packages\\azure\\ai\\ml\\entities\\__init__.py)"
     ]
    }
   ],
   "source": [
    "import os\n",
    "import json\n",
    "import time\n",
    "import numpy as np\n",
    "import pandas as pd\n",
    "from datetime import datetime, timedelta\n",
    "import matplotlib.pyplot as plt\n",
    "import seaborn as sns\n",
    "from typing import Dict, List, Any\n",
    "\n",
    "# Azure ML imports\n",
    "from azure.ai.ml import MLClient\n",
    "from azure.ai.ml.entities import (\n",
    "    DataDriftMonitor,\n",
    "    ModelMonitor,\n",
    "    ServerlessSparkCompute\n",
    ")\n",
    "from azure.identity import DefaultAzureCredential\n",
    "\n",
    "# Data drift detection\n",
    "from scipy import stats\n",
    "from sklearn.metrics import (\n",
    "    accuracy_score, precision_score, recall_score, f1_score,\n",
    "    confusion_matrix, classification_report\n",
    ")\n",
    "\n",
    "# For synthetic data generation and drift simulation\n",
    "from sklearn.datasets import make_classification\n",
    "from sklearn.preprocessing import StandardScaler\n",
    "import warnings\n",
    "warnings.filterwarnings('ignore')"
   ]
  },
  {
   "cell_type": "code",
   "execution_count": null,
   "id": "36e0568b",
   "metadata": {},
   "outputs": [],
   "source": [
    "SUBSCRIPTION_ID = os.getenv(\"AZURE_SUBSCRIPTION_ID\", \"3fc7fd13-533e-40a7-8e3d-f1fbf4204436\")\n",
    "RESOURCE_GROUP = os.getenv(\"AZURE_RESOURCE_GROUP\", \"edu-demo\")\n",
    "WORKSPACE_NAME = os.getenv(\"AZURE_WORKSPACE_NAME\", \"edu-demo\")\n",
    "\n",
    "try:\n",
    "    credential = DefaultAzureCredential()\n",
    "    ml_client = MLClient(\n",
    "        credential=credential,\n",
    "        subscription_id=SUBSCRIPTION_ID,\n",
    "        resource_group_name=RESOURCE_GROUP,\n",
    "        workspace_name=WORKSPACE_NAME,\n",
    "    )\n",
    "    \n",
    "    print(\"Azure ML Client initialized successfully!\")\n",
    "    print(f\"Workspace: {ml_client.workspace_name}\")\n",
    "    \n",
    "except Exception as e:\n",
    "    print(f\"Error initializing Azure ML Client: {e}\")"
   ]
  }
 ],
 "metadata": {
  "kernelspec": {
   "display_name": ".venv",
   "language": "python",
   "name": "python3"
  },
  "language_info": {
   "codemirror_mode": {
    "name": "ipython",
    "version": 3
   },
   "file_extension": ".py",
   "mimetype": "text/x-python",
   "name": "python",
   "nbconvert_exporter": "python",
   "pygments_lexer": "ipython3",
   "version": "3.12.0"
  }
 },
 "nbformat": 4,
 "nbformat_minor": 5
}
